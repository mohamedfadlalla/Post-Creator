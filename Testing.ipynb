{
 "cells": [
  {
   "cell_type": "code",
   "execution_count": 7,
   "id": "13b25fb2-5db1-4e5e-89d0-b50d98cc7c3e",
   "metadata": {},
   "outputs": [],
   "source": [
    "#basic imports\n",
    "from IPython.display import Markdown"
   ]
  },
  {
   "cell_type": "code",
   "execution_count": 1,
   "id": "71355eb8-8de9-4e36-b216-942fb0a32a9d",
   "metadata": {},
   "outputs": [],
   "source": [
    "from langchain_core.prompts import ChatPromptTemplate\n",
    "from langchain_groq import ChatGroq\n",
    "GROQ_API_KEY=\"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\""
   ]
  },
  {
   "cell_type": "code",
   "execution_count": 23,
   "id": "bb1d8b3b-fc00-4812-8369-c7c3dcad329b",
   "metadata": {},
   "outputs": [],
   "source": [
    "groq_mx = ChatGroq(temperature=0,\n",
    "                   model_name=\"mixtral-8x7b-32768\", groq_api_key=GROQ_API_KEY)\n",
    "\n",
    "groq_gb = ChatGroq(temperature=0,\n",
    "                   model_name=\"gemma2-9b-it\", groq_api_key=GROQ_API_KEY)\n",
    "\n",
    "groq_fb = ChatGroq(temperature=0,\n",
    "                   model_name=\"llama3-70b-8192\", groq_api_key=GROQ_API_KEY)"
   ]
  },
  {
   "cell_type": "code",
   "execution_count": 26,
   "id": "eef5694a-339f-41d2-9628-ae463962f8cf",
   "metadata": {},
   "outputs": [],
   "source": [
    "from langchain_google_genai import ChatGoogleGenerativeAI\n",
    "from langchain_core.prompts import ChatPromptTemplate\n",
    "import os \n",
    "\n",
    "# setup google gemini api keys\n",
    "from dotenv import load_dotenv\n",
    "load_dotenv()\n",
    "GOOGLE_API_KEY = os.getenv(\"GOOGLE_API_KEY\")\n",
    "flash = ChatGoogleGenerativeAI(model=\"gemini-1.5-flash\", google_api_key=GOOGLE_API_KEY, temperature=0.4, convert_system_message_to_human=True)\n",
    "pro1_5 = ChatGoogleGenerativeAI(model=\"gemini-1.5-pro\", google_api_key=GOOGLE_API_KEY, temperature=0.4, convert_system_message_to_human=True)"
   ]
  },
  {
   "cell_type": "code",
   "execution_count": 27,
   "id": "4b9d5308-5e4e-4b45-be9e-8ce754ce1e19",
   "metadata": {},
   "outputs": [
    {
     "name": "stderr",
     "output_type": "stream",
     "text": [
      "Retrying langchain_google_genai.chat_models._chat_with_retry.<locals>._chat_with_retry in 2.0 seconds as it raised InternalServerError: 500 An internal error has occurred. Please retry or report in https://developers.generativeai.google/guide/troubleshooting.\n",
      "Retrying langchain_google_genai.chat_models._chat_with_retry.<locals>._chat_with_retry in 4.0 seconds as it raised InternalServerError: 500 An internal error has occurred. Please retry or report in https://developers.generativeai.google/guide/troubleshooting.\n",
      "Retrying langchain_google_genai.chat_models._chat_with_retry.<locals>._chat_with_retry in 8.0 seconds as it raised InternalServerError: 500 An internal error has occurred. Please retry or report in https://developers.generativeai.google/guide/troubleshooting.\n",
      "Retrying langchain_google_genai.chat_models._chat_with_retry.<locals>._chat_with_retry in 16.0 seconds as it raised InternalServerError: 500 An internal error has occurred. Please retry or report in https://developers.generativeai.google/guide/troubleshooting.\n",
      "Retrying langchain_google_genai.chat_models._chat_with_retry.<locals>._chat_with_retry in 32.0 seconds as it raised InternalServerError: 500 An internal error has occurred. Please retry or report in https://developers.generativeai.google/guide/troubleshooting.\n"
     ]
    },
    {
     "data": {
      "text/markdown": [
       "## الذكاء الاصطناعي: ثورة في عالم الطب؟ 🤖🩺\n",
       "\n",
       "هل تعلم أن الذكاء الاصطناعي قادر على تشخيص الأمراض بدقة عالية؟ 🤔\n",
       "\n",
       "يساعد الذكاء الاصطناعي في مجالات طبية متعددة مثل اكتشاف الأدوية، تحليل الصور الطبية، وحتى التواصل مع المرضى! 🤯\n",
       "\n",
       "لكن هل سيحل محل الأطباء تماماً؟ 🤔 \n",
       "\n",
       "تابعونا لمعرفة المزيد عن مستقبل الطب في ظل ثورة الذكاء الاصطناعي! \n"
      ],
      "text/plain": [
       "<IPython.core.display.Markdown object>"
      ]
     },
     "execution_count": 27,
     "metadata": {},
     "output_type": "execute_result"
    }
   ],
   "source": [
    "## sammarization chain\n",
    "import prompts \n",
    "import importlib\n",
    "importlib.reload(prompts)\n",
    "\n",
    "\n",
    "text = open(\"test_article.md\").read()\n",
    "\n",
    "chain = prompts.sammarizer | flash\n",
    "sammary = chain.invoke({'text': text}).content\n",
    "\n",
    "chain = prompts.post_writer | pro1_5\n",
    "post = chain.invoke({'text': sammary}).content\n",
    "\n",
    "Markdown(post)"
   ]
  },
  {
   "cell_type": "code",
   "execution_count": 28,
   "id": "a9344c4e-512e-4e24-bc78-1035bbee65f7",
   "metadata": {},
   "outputs": [
    {
     "data": {
      "text/markdown": [
       "## Artificial Intelligence: How is It Changing Medical Sciences and Its Future?\n",
       "\n",
       "**Journal List:** [Indian J Dermatol](https://www.ncbi.nlm.nih.gov/pmc/journals/963/)\n",
       "\n",
       "**Volume:** 65(5); Sep-Oct 2020\n",
       "\n",
       "**PMC ID:** PMC7640807\n",
       "\n",
       "**Abstract**\n",
       "\n",
       "This article explores the impact of artificial intelligence (AI) on medical sciences, highlighting its various applications and separating hype from reality. AI is being used extensively in healthcare for tasks like diagnosing patients, drug discovery, improving communication, transcribing medical documents, and remote patient treatment. While AI systems often outperform humans in efficiency, recent advancements have led to algorithms achieving accuracy comparable to human experts in medical fields.\n",
       "\n",
       "**Key Words:** Artificial intelligence, deep convolutional neural network, medical use\n",
       "\n",
       "**Introduction**\n",
       "\n",
       "AI has revolutionized various industries, including banking, education, manufacturing, retail, and healthcare. Its applications in the technology industry have enabled innovations like web search, content recommendations, product recommendations, targeted advertising, and autonomous vehicles. AI has become an integral part of our daily lives, impacting how we perceive and process information.\n",
       "\n",
       "**What is AI?**\n",
       "\n",
       "AI is a branch of computer science focused on creating intelligent machines capable of performing tasks that typically require human intelligence. AI applications include visual perception, speech recognition, decision-making, and language translation.\n",
       "\n",
       "**History of AI in Medical Field**\n",
       "\n",
       "AI has made significant strides in patient diagnosis, particularly in visually oriented specialties like dermatology. Deep convolutional neural networks (DCNNs) have been trained on large datasets of clinical imaging data to classify skin cancer, skin lesions, and psoriasis with accuracy comparable to board-certified dermatologists.\n",
       "\n",
       "AI has also been applied to patient prognosis, with DCNNs trained to classify retinal fundus images for diabetic retinopathy and macular edema. This technology offers several advantages, including automated grading, second opinions, early detection, and increased screening program accessibility.\n",
       "\n",
       "AI has made significant contributions to drug discovery and personalized treatment options. Companies like Verge Genomics utilize machine-learning algorithms to analyze human genomic data and identify drugs for neurological diseases.\n",
       "\n",
       "AI assistants are also being used to enhance patient experience and support physicians. Companies like BotMD have developed systems that provide 24-hour clinical support, including appointment scheduling, prescription information, and access to hospital protocols and tools.\n",
       "\n",
       "**Companies Using AI in Medical Sciences**\n",
       "\n",
       "**Table 1:** Some major companies around the world using artificial intelligence in medical sciences\n",
       "\n",
       "| Company | Purpose | Website |\n",
       "|---|---|---|\n",
       "| AiCure (New York City) | Patient-oriented: Uses video, audio, and behavioral data to understand the connection between patients, disease, and treatment. | [https://aicure.com](https://aicure.com/) |\n",
       "| Aidence (Amsterdam, The Netherlands) | Clinician-oriented: AI for radiologists: improving diagnostics for the treatment of lung cancer | [https://www.aidence.com](https://www.aidence.com/) |\n",
       "| Aiva Health (Los Angeles) | Administrative and Operational-oriented: The first voice-powered care assistant: connects patients with the correct physician for communication. | [https://aivahealth.com](https://aivahealth.com/) |\n",
       "| Babylon Health (London) | Administrative and Operational-oriented: Uses NLP and AI to create internationally accessible and affordable health system for all. | [https://www.babylonhealth.com](https://www.babylonhealth.com/) |\n",
       "| Bot MD (Singapore) | Clinician-oriented: Bot assistant: answers clinical questions, transcribes dictated case notes, and automatically organizes images and files. | [https://www.botmd.io/en/](https://www.botmd.io/en/) |\n",
       "| Suki (San Francisco) | Clinician-oriented: Voice enabled digital assistant for physicians | [https://www.suki.ai](https://www.suki.ai/) |\n",
       "| Insitro (San Francisco) | Patient-oriented: Uses advanced machine learning with computational genomics to reduce the time and cost associated with drug discovery for patients. | [http://insitro.com/](http://insitro.com/) |\n",
       "\n",
       "**Present Day Use of AI**\n",
       "\n",
       "AI is playing a crucial role in the fight against the COVID-19 pandemic, particularly in contact tracing and outbreak prediction. Tech giants like Google and Apple have collaborated to create a contact tracing platform using AI-powered APIs on smartphones. Companies like BlueDot utilize NLP, ML, and automated infectious disease surveillance to predict future outbreaks.\n",
       "\n",
       "**Myth Versus Reality in AI**\n",
       "\n",
       "While AI holds great promise for advancing healthcare, there are unrealistic expectations about its capabilities and future impact.\n",
       "\n",
       "**Common Myths:**\n",
       "\n",
       "1. **Clinicians will be replaced by AI:** While AI can automate tasks and provide support, it is unlikely to completely replace physicians.\n",
       "2. **Programming knowledge is necessary to successfully use AI:** Collaboration between physicians and data scientists is essential for building and utilizing AI systems effectively.\n",
       "\n",
       "**Limitations and Challenges in the Application of Artificially Intelligent Systems in Medical Science**\n",
       "\n",
       "**Availability of data:** The availability of large quantities of high-quality data is crucial for training AI models. However, patient privacy concerns and data breaches pose significant challenges.\n",
       "\n",
       "**Creating biased models:** Bias can be introduced at various stages of AI development, from data collection and preprocessing to model selection and presentation.\n",
       "\n",
       "**Fragmented data:** Data sharing between healthcare organizations is often limited due to privacy concerns, resulting in fragmented data that limits model reliability.\n",
       "\n",
       "**Blackboxes:** The complexity of AI algorithms can make them difficult to interpret, leading to a \"blackbox\" problem.\n",
       "\n",
       "**Conclusion: The Future of AI in Medical Sciences**\n",
       "\n",
       "Despite the limitations, AI has the potential to revolutionize healthcare by automating tasks, providing support to physicians, and improving patient experience. AI can also extend medical services to remote areas through remote diagnosis.\n",
       "\n",
       "**Key areas for future development:**\n",
       "\n",
       "* **Expanding the use of AI in public health:** AI can be used to monitor health trends, predict outbreaks, and personalize health interventions.\n",
       "* **Addressing neglected diseases:** AI can be used to develop new treatments for neglected tropical diseases and rare diseases.\n",
       "* **Improving mental health care:** AI-powered virtual assistants can provide support and facilitate communication for patients with mental health conditions.\n",
       "\n",
       "**Challenges for the future:**\n",
       "\n",
       "* **Data privacy and security:** Ensuring the ethical and secure use of patient data is crucial.\n",
       "* **Standardization of data infrastructure:** A standardized data infrastructure is needed to facilitate data sharing and AI development.\n",
       "* **Collaboration between healthcare professionals and AI experts:**  Effective collaboration is essential for developing and implementing AI systems in healthcare.\n",
       "\n",
       "**Overall, AI has the potential to address many of healthcare's biggest challenges. However, realizing this potential requires addressing the limitations and challenges discussed in this article. Collaboration, data standardization, and ethical considerations are crucial for ensuring the responsible and effective use of AI in medical sciences.** \n"
      ],
      "text/plain": [
       "<IPython.core.display.Markdown object>"
      ]
     },
     "execution_count": 28,
     "metadata": {},
     "output_type": "execute_result"
    }
   ],
   "source": [
    "Markdown(sammary)"
   ]
  },
  {
   "cell_type": "code",
   "execution_count": 23,
   "id": "7290181d-d897-4383-be66-97041fa1d3d2",
   "metadata": {
    "scrolled": true
   },
   "outputs": [
    {
     "ename": "ImportError",
     "evalue": "cannot import name 'post_writer' from 'prompts' (C:\\Users\\DELL\\Desktop\\Research Projects\\Post-Creator\\prompts.py)",
     "output_type": "error",
     "traceback": [
      "\u001b[1;31m---------------------------------------------------------------------------\u001b[0m",
      "\u001b[1;31mImportError\u001b[0m                               Traceback (most recent call last)",
      "Cell \u001b[1;32mIn[23], line 1\u001b[0m\n\u001b[1;32m----> 1\u001b[0m \u001b[38;5;28;01mfrom\u001b[39;00m \u001b[38;5;21;01mprompts\u001b[39;00m \u001b[38;5;28;01mimport\u001b[39;00m post_writer\n\u001b[0;32m      3\u001b[0m \u001b[38;5;28;01mfrom\u001b[39;00m \u001b[38;5;21;01minput\u001b[39;00m \u001b[38;5;28;01mimport\u001b[39;00m brand_voice\n\u001b[0;32m      7\u001b[0m system \u001b[38;5;241m=\u001b[39m post_writer\n",
      "\u001b[1;31mImportError\u001b[0m: cannot import name 'post_writer' from 'prompts' (C:\\Users\\DELL\\Desktop\\Research Projects\\Post-Creator\\prompts.py)"
     ]
    }
   ],
   "source": [
    "from prompts import post_writer\n",
    "\n",
    "from input import brand_voice\n",
    "\n",
    "\n",
    "\n",
    "system = post_writer\n",
    "human = sammary\n",
    "prompt = ChatPromptTemplate.from_messages([(\"system\", system,),\n",
    "                                               (\"human\", sammary),])\n",
    "chain = prompt | groq_mx\n",
    "response = chain.invoke({})\n",
    "print(response)\n"
   ]
  },
  {
   "cell_type": "code",
   "execution_count": null,
   "id": "5f1926c7-5b67-447e-b714-1e4d3645669e",
   "metadata": {},
   "outputs": [],
   "source": []
  },
  {
   "cell_type": "code",
   "execution_count": null,
   "id": "93b24f8b-5dec-431c-9de4-0d33fd3e78be",
   "metadata": {},
   "outputs": [],
   "source": []
  }
 ],
 "metadata": {
  "kernelspec": {
   "display_name": "Python 3 (ipykernel)",
   "language": "python",
   "name": "python3"
  },
  "language_info": {
   "codemirror_mode": {
    "name": "ipython",
    "version": 3
   },
   "file_extension": ".py",
   "mimetype": "text/x-python",
   "name": "python",
   "nbconvert_exporter": "python",
   "pygments_lexer": "ipython3",
   "version": "3.11.5"
  }
 },
 "nbformat": 4,
 "nbformat_minor": 5
}
