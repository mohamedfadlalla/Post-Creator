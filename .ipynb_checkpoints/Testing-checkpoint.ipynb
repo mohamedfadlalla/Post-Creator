{
 "cells": [
  {
   "cell_type": "code",
   "execution_count": 7,
   "id": "13b25fb2-5db1-4e5e-89d0-b50d98cc7c3e",
   "metadata": {},
   "outputs": [],
   "source": [
    "#basic imports\n",
    "from IPython.display import Markdown"
   ]
  },
  {
   "cell_type": "code",
   "execution_count": 1,
   "id": "71355eb8-8de9-4e36-b216-942fb0a32a9d",
   "metadata": {},
   "outputs": [],
   "source": [
    "from langchain_core.prompts import ChatPromptTemplate\n",
    "from langchain_groq import ChatGroq\n",
    "GROQ_API_KEY=\"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\""
   ]
  },
  {
   "cell_type": "code",
   "execution_count": 5,
   "id": "bb1d8b3b-fc00-4812-8369-c7c3dcad329b",
   "metadata": {},
   "outputs": [],
   "source": [
    "groq_mx = ChatGroq(temperature=0,\n",
    "                   model_name=\"mixtral-8x7b-32768\", groq_api_key=GROQ_API_KEY)\n",
    "\n",
    "groq_gb = ChatGroq(temperature=0,\n",
    "                   model_name=\"gemma2-9b-it\", groq_api_key=GROQ_API_KEY)\n",
    "\n",
    "groq_fb = ChatGroq(temperature=0,\n",
    "                   model_name=\"llama3-8b-8192\", groq_api_key=GROQ_API_KEY)"
   ]
  },
  {
   "cell_type": "code",
   "execution_count": 6,
   "id": "eef5694a-339f-41d2-9628-ae463962f8cf",
   "metadata": {},
   "outputs": [],
   "source": [
    "from langchain_google_genai import ChatGoogleGenerativeAI\n",
    "from langchain_core.prompts import ChatPromptTemplate\n",
    "import os \n",
    "\n",
    "# setup google gemini api keys\n",
    "from dotenv import load_dotenv\n",
    "load_dotenv()\n",
    "GOOGLE_API_KEY = os.getenv(\"GOOGLE_API_KEY\")\n",
    "gem1 = ChatGoogleGenerativeAI(model=\"gemini-1.5-pro\", google_api_key=GOOGLE_API_KEY, temperature=0.4, convert_system_message_to_human=True)"
   ]
  },
  {
   "cell_type": "code",
   "execution_count": 8,
   "id": "4b9d5308-5e4e-4b45-be9e-8ce754ce1e19",
   "metadata": {},
   "outputs": [
    {
     "ename": "ModuleNotFoundError",
     "evalue": "No module named 'templates'",
     "output_type": "error",
     "traceback": [
      "\u001b[1;31m---------------------------------------------------------------------------\u001b[0m",
      "\u001b[1;31mModuleNotFoundError\u001b[0m                       Traceback (most recent call last)",
      "Cell \u001b[1;32mIn[8], line 2\u001b[0m\n\u001b[0;32m      1\u001b[0m \u001b[38;5;66;03m## sammarization chain\u001b[39;00m\n\u001b[1;32m----> 2\u001b[0m \u001b[38;5;28;01mfrom\u001b[39;00m \u001b[38;5;21;01mtemplates\u001b[39;00m \u001b[38;5;28;01mimport\u001b[39;00m \u001b[38;5;241m*\u001b[39m\n\u001b[0;32m      3\u001b[0m \u001b[38;5;28;01mimport\u001b[39;00m \u001b[38;5;21;01mtemplates\u001b[39;00m \n\u001b[0;32m      4\u001b[0m \u001b[38;5;28;01mimport\u001b[39;00m \u001b[38;5;21;01mimportlib\u001b[39;00m\n",
      "\u001b[1;31mModuleNotFoundError\u001b[0m: No module named 'templates'"
     ]
    }
   ],
   "source": [
    "## sammarization chain\n",
    "from templates import *\n",
    "import templates \n",
    "import importlib\n",
    "importlib.reload(templates)\n",
    "\n",
    "\n",
    "\n",
    "text = open(\"test_article.md\").read()\n",
    "chain = templates.sammarizer | groq_fb\n",
    "sammary = chain.invoke({'text': text}).content\n",
    "Markdown(sammary)"
   ]
  },
  {
   "cell_type": "code",
   "execution_count": 4,
   "id": "a9344c4e-512e-4e24-bc78-1035bbee65f7",
   "metadata": {},
   "outputs": [
    {
     "data": {
      "text/plain": [
       "\"Please provide me with the article you would like me to summarize. I'm ready to process it and generate a markdown summary for you! \\n\""
      ]
     },
     "execution_count": 4,
     "metadata": {},
     "output_type": "execute_result"
    }
   ],
   "source": [
    "sammary"
   ]
  },
  {
   "cell_type": "code",
   "execution_count": 23,
   "id": "7290181d-d897-4383-be66-97041fa1d3d2",
   "metadata": {
    "scrolled": true
   },
   "outputs": [
    {
     "ename": "ImportError",
     "evalue": "cannot import name 'post_writer' from 'prompts' (C:\\Users\\DELL\\Desktop\\Research Projects\\Post-Creator\\prompts.py)",
     "output_type": "error",
     "traceback": [
      "\u001b[1;31m---------------------------------------------------------------------------\u001b[0m",
      "\u001b[1;31mImportError\u001b[0m                               Traceback (most recent call last)",
      "Cell \u001b[1;32mIn[23], line 1\u001b[0m\n\u001b[1;32m----> 1\u001b[0m \u001b[38;5;28;01mfrom\u001b[39;00m \u001b[38;5;21;01mprompts\u001b[39;00m \u001b[38;5;28;01mimport\u001b[39;00m post_writer\n\u001b[0;32m      3\u001b[0m \u001b[38;5;28;01mfrom\u001b[39;00m \u001b[38;5;21;01minput\u001b[39;00m \u001b[38;5;28;01mimport\u001b[39;00m brand_voice\n\u001b[0;32m      7\u001b[0m system \u001b[38;5;241m=\u001b[39m post_writer\n",
      "\u001b[1;31mImportError\u001b[0m: cannot import name 'post_writer' from 'prompts' (C:\\Users\\DELL\\Desktop\\Research Projects\\Post-Creator\\prompts.py)"
     ]
    }
   ],
   "source": [
    "from prompts import post_writer\n",
    "\n",
    "from input import brand_voice\n",
    "\n",
    "\n",
    "\n",
    "system = post_writer\n",
    "human = sammary\n",
    "prompt = ChatPromptTemplate.from_messages([(\"system\", system,),\n",
    "                                               (\"human\", sammary),])\n",
    "chain = prompt | groq_mx\n",
    "response = chain.invoke({})\n",
    "print(response)\n"
   ]
  },
  {
   "cell_type": "code",
   "execution_count": null,
   "id": "5f1926c7-5b67-447e-b714-1e4d3645669e",
   "metadata": {},
   "outputs": [],
   "source": []
  },
  {
   "cell_type": "code",
   "execution_count": null,
   "id": "93b24f8b-5dec-431c-9de4-0d33fd3e78be",
   "metadata": {},
   "outputs": [],
   "source": []
  }
 ],
 "metadata": {
  "kernelspec": {
   "display_name": "Python 3 (ipykernel)",
   "language": "python",
   "name": "python3"
  },
  "language_info": {
   "codemirror_mode": {
    "name": "ipython",
    "version": 3
   },
   "file_extension": ".py",
   "mimetype": "text/x-python",
   "name": "python",
   "nbconvert_exporter": "python",
   "pygments_lexer": "ipython3",
   "version": "3.11.5"
  }
 },
 "nbformat": 4,
 "nbformat_minor": 5
}
